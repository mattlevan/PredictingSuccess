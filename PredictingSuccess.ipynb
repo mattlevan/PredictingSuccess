{
 "cells": [
  {
   "cell_type": "markdown",
   "metadata": {},
   "source": [
    "# Crunchbase Snapshot © 2013 Data Analysis Notebook"
   ]
  },
  {
   "cell_type": "code",
   "execution_count": 11,
   "metadata": {
    "collapsed": false
   },
   "outputs": [
    {
     "data": {
      "text/html": [
       "<style>body {\n",
       "    margin: 0;\n",
       "    font-family: Helvetica;\n",
       "}\n",
       "table.dataframe {\n",
       "    border-collapse: collapse;\n",
       "    border: none;\n",
       "}\n",
       "table.dataframe tr {\n",
       "    border: none;\n",
       "}\n",
       "table.dataframe td, table.dataframe th {\n",
       "    margin: 0;\n",
       "    border: 1px solid white;\n",
       "    padding-left: 0.25em;\n",
       "    padding-right: 0.25em;\n",
       "}\n",
       "table.dataframe th:not(:empty) {\n",
       "    background-color: #fec;\n",
       "    text-align: left;\n",
       "    font-weight: normal;\n",
       "}\n",
       "table.dataframe tr:nth-child(2) th:empty {\n",
       "    border-left: none;\n",
       "    border-right: 1px dashed #888;\n",
       "}\n",
       "table.dataframe td {\n",
       "    border: 2px solid #ccf;\n",
       "    background-color: #f4f4ff;\n",
       "}\n",
       "h3 {\n",
       "    color: white;\n",
       "    background-color: black;\n",
       "    padding: 0.5em;\n",
       "}\n",
       "</style>"
      ],
      "text/plain": [
       "<IPython.core.display.HTML object>"
      ]
     },
     "execution_count": 11,
     "metadata": {},
     "output_type": "execute_result"
    }
   ],
   "source": [
    "%matplotlib inline\n",
    "import matplotlib.pyplot as plt\n",
    "from matplotlib import style\n",
    "import pandas\n",
    "from pandas import DataFrame as df\n",
    "import numpy as np\n",
    "# import sklearn as sk\n",
    "import plotly as py\n",
    "from plotly.graph_objs import *\n",
    "import igraph as ig\n",
    "\n",
    "# CSS files for more aesthetically pleasing inline tables.\n",
    "from IPython.core.display import HTML\n",
    "css = open('css/style-table.css').read() + open('css/style-notebook.css').read()\n",
    "HTML('<style>{}</style>'.format(css))"
   ]
  },
  {
   "cell_type": "markdown",
   "metadata": {},
   "source": [
    "## Import Crunchbase 2013 Snapshot CSV files."
   ]
  },
  {
   "cell_type": "code",
   "execution_count": 3,
   "metadata": {
    "collapsed": false
   },
   "outputs": [],
   "source": [
    "cb_acquisitions = df.from_csv('csv/cb_acquisitions.csv').reset_index('id')\n",
    "cb_funding_rounds = df.from_csv('csv/cb_funding_rounds.csv').reset_index('id')\n",
    "cb_funds = df.from_csv('csv/cb_funds.csv').reset_index('id')\n",
    "cb_investments = df.from_csv('csv/cb_investments.csv').reset_index('id')\n",
    "cb_ipos = df.from_csv('csv/cb_ipos.csv').reset_index('id')\n",
    "cb_milestones = df.from_csv('csv/cb_milestones.csv').reset_index('id')\n",
    "cb_objects = df.from_csv('csv/cb_objects.csv').reset_index('id')\n",
    "cb_offices = df.from_csv('csv/cb_offices.csv').reset_index('id')\n",
    "cb_people = df.from_csv('csv/cb_people.csv').reset_index('id')\n",
    "cb_relationships = df.from_csv('csv/cb_relationships.csv').reset_index('id')"
   ]
  },
  {
   "cell_type": "markdown",
   "metadata": {},
   "source": [
    "## Visualize data frames."
   ]
  },
  {
   "cell_type": "code",
   "execution_count": 57,
   "metadata": {
    "collapsed": false
   },
   "outputs": [
    {
     "data": {
      "text/html": [
       "<div>\n",
       "<table border=\"1\" class=\"dataframe\">\n",
       "  <thead>\n",
       "    <tr style=\"text-align: right;\">\n",
       "      <th></th>\n",
       "      <th>id</th>\n",
       "      <th>acquisition_id</th>\n",
       "      <th>acquiring_object_id</th>\n",
       "      <th>acquired_object_id</th>\n",
       "      <th>term_code</th>\n",
       "      <th>price_amount</th>\n",
       "      <th>price_currency_code</th>\n",
       "      <th>acquired_at</th>\n",
       "      <th>source_url</th>\n",
       "      <th>source_description</th>\n",
       "    </tr>\n",
       "  </thead>\n",
       "  <tbody>\n",
       "    <tr>\n",
       "      <th>0</th>\n",
       "      <td>1</td>\n",
       "      <td>1</td>\n",
       "      <td>c:11</td>\n",
       "      <td>c:10</td>\n",
       "      <td>NaN</td>\n",
       "      <td>20000000.0</td>\n",
       "      <td>USD</td>\n",
       "      <td>2007-05-30</td>\n",
       "      <td>http://venturebeat.com/2007/05/30/fox-interact...</td>\n",
       "      <td>Fox Interactive confirms purchase of Photobuck...</td>\n",
       "    </tr>\n",
       "    <tr>\n",
       "      <th>1</th>\n",
       "      <td>2</td>\n",
       "      <td>7</td>\n",
       "      <td>c:59</td>\n",
       "      <td>c:72</td>\n",
       "      <td>cash</td>\n",
       "      <td>60000000.0</td>\n",
       "      <td>USD</td>\n",
       "      <td>2007-07-01</td>\n",
       "      <td>http://www.techcrunch.com/2007/07/02/deal-is-c...</td>\n",
       "      <td>Deal is Confirmed: Google Acquired GrandCentral</td>\n",
       "    </tr>\n",
       "    <tr>\n",
       "      <th>2</th>\n",
       "      <td>3</td>\n",
       "      <td>8</td>\n",
       "      <td>c:24</td>\n",
       "      <td>c:132</td>\n",
       "      <td>cash</td>\n",
       "      <td>280000000.0</td>\n",
       "      <td>USD</td>\n",
       "      <td>2007-05-01</td>\n",
       "      <td>http://www.techcrunch.com/2007/05/30/cbs-acqui...</td>\n",
       "      <td>CBS Acquires Europe’s Last.fm for $280 million</td>\n",
       "    </tr>\n",
       "    <tr>\n",
       "      <th>3</th>\n",
       "      <td>4</td>\n",
       "      <td>9</td>\n",
       "      <td>c:59</td>\n",
       "      <td>c:155</td>\n",
       "      <td>cash</td>\n",
       "      <td>100000000.0</td>\n",
       "      <td>USD</td>\n",
       "      <td>2007-06-01</td>\n",
       "      <td>http://techcrunch.com/2007/05/23/100-million-p...</td>\n",
       "      <td>$100 Million Payday For Feedburner</td>\n",
       "    </tr>\n",
       "    <tr>\n",
       "      <th>4</th>\n",
       "      <td>5</td>\n",
       "      <td>10</td>\n",
       "      <td>c:212</td>\n",
       "      <td>c:215</td>\n",
       "      <td>cash</td>\n",
       "      <td>25000000.0</td>\n",
       "      <td>USD</td>\n",
       "      <td>2007-07-01</td>\n",
       "      <td>http://blog.seattlepi.nwsource.com/venture/arc...</td>\n",
       "      <td>seatlepi.com</td>\n",
       "    </tr>\n",
       "  </tbody>\n",
       "</table>\n",
       "</div>"
      ],
      "text/plain": [
       "   id  acquisition_id acquiring_object_id acquired_object_id term_code  \\\n",
       "0   1               1                c:11               c:10       NaN   \n",
       "1   2               7                c:59               c:72      cash   \n",
       "2   3               8                c:24              c:132      cash   \n",
       "3   4               9                c:59              c:155      cash   \n",
       "4   5              10               c:212              c:215      cash   \n",
       "\n",
       "   price_amount price_currency_code acquired_at  \\\n",
       "0    20000000.0                 USD  2007-05-30   \n",
       "1    60000000.0                 USD  2007-07-01   \n",
       "2   280000000.0                 USD  2007-05-01   \n",
       "3   100000000.0                 USD  2007-06-01   \n",
       "4    25000000.0                 USD  2007-07-01   \n",
       "\n",
       "                                          source_url  \\\n",
       "0  http://venturebeat.com/2007/05/30/fox-interact...   \n",
       "1  http://www.techcrunch.com/2007/07/02/deal-is-c...   \n",
       "2  http://www.techcrunch.com/2007/05/30/cbs-acqui...   \n",
       "3  http://techcrunch.com/2007/05/23/100-million-p...   \n",
       "4  http://blog.seattlepi.nwsource.com/venture/arc...   \n",
       "\n",
       "                                  source_description  \n",
       "0  Fox Interactive confirms purchase of Photobuck...  \n",
       "1    Deal is Confirmed: Google Acquired GrandCentral  \n",
       "2     CBS Acquires Europe’s Last.fm for $280 million  \n",
       "3                $100 Million Payday For Feedburner   \n",
       "4                                       seatlepi.com  "
      ]
     },
     "execution_count": 57,
     "metadata": {},
     "output_type": "execute_result"
    }
   ],
   "source": [
    "cb_acquisitions.head()\n",
    "# cb_funding_rounds.head(1)\n",
    "# cb_funds.head(1)\n",
    "# cb_investments.head(1)\n",
    "# cb_ipos.head(1)\n",
    "# cb_milestones.head(1)\n",
    "# cb_objects.head(1)\n",
    "# cb_offices.head(1)\n",
    "# cb_people.head(1)\n",
    "# cb_relationships.head(1)"
   ]
  },
  {
   "cell_type": "markdown",
   "metadata": {},
   "source": [
    "## Build igraph networks."
   ]
  },
  {
   "cell_type": "code",
   "execution_count": 77,
   "metadata": {
    "collapsed": false
   },
   "outputs": [
    {
     "data": {
      "text/plain": [
       "1515"
      ]
     },
     "execution_count": 77,
     "metadata": {},
     "output_type": "execute_result"
    }
   ],
   "source": []
  },
  {
   "cell_type": "markdown",
   "metadata": {
    "collapsed": false
   },
   "source": [
    "#### Acquisitions"
   ]
  },
  {
   "cell_type": "code",
   "execution_count": 81,
   "metadata": {
    "collapsed": false
   },
   "outputs": [],
   "source": [
    "# Declare an empty graph for acquisitions.\n",
    "acquisitions = ig.Graph()\n",
    "\n",
    "# Remove rows that report companies who've acquired themselves...\n",
    "cb_acquisitions = cb_acquisitions[(cb_acquisitions['acquiring_object_id'] != cb_acquisitions['acquired_object_id'])]\n",
    "\n",
    "# Calculate the number of unique acquirers and acquirees\n",
    "unique_acquirers = cb_acquisitions['acquiring_object_id'].unique()\n",
    "unique_acquirees = cb_acquisitions['acquired_object_id'].unique()\n",
    "# Append both acquirers and acquirees into one np.array.\n",
    "nodes = np.append(unique_acquirers, unique_acquirees)\n",
    "# Remove duplicates.\n",
    "unique_nodes = np.unique(nodes)\n",
    "\n",
    "# Add appropriate number of vertices to the acquisitions graph.\n",
    "acquisitions.add_vertices(len(unique_nodes))\n",
    "\n",
    "# Declare and initialize vertex attributes.\n",
    "acquisitions.vs['acquiring_object_id'] = cb_acquisitions['acquiring_object_id'].unique()\n",
    "acquisitions.vs['acquired_object_id'] = cb_acquisitions['acquired_object_id'].unique()\n",
    "\n",
    "# Connect edges between vertices.\n",
    "\n",
    "# Declare and initialize edge attributes.\n",
    "# acquisitions.es['price_amount'] = cb_acquisitions['price_amount']\n",
    "# acquisitions.es['acquired_at'] = cb_acquisitions['acquired_at']"
   ]
  },
  {
   "cell_type": "markdown",
   "metadata": {},
   "source": [
    "## Visualize networks with plotly."
   ]
  },
  {
   "cell_type": "code",
   "execution_count": 7,
   "metadata": {
    "collapsed": false
   },
   "outputs": [],
   "source": [
    "# Relationships"
   ]
  },
  {
   "cell_type": "code",
   "execution_count": 11,
   "metadata": {
    "collapsed": false
   },
   "outputs": [
    {
     "data": {
      "text/plain": [
       "'Average relationships: 4.3'"
      ]
     },
     "execution_count": 11,
     "metadata": {},
     "output_type": "execute_result"
    }
   ],
   "source": [
    "# Average number of relationships per company.\n",
    "avg_relationships = np.average(cb_objects[(cb_objects.relationships.notnull())].relationships)\n",
    "\"Average relationships: {:,.2}\".format(avg_relationships)"
   ]
  },
  {
   "cell_type": "code",
   "execution_count": 121,
   "metadata": {
    "collapsed": false
   },
   "outputs": [
    {
     "data": {
      "image/png": "[encoded data removed]",
      "text/plain": [
       "<matplotlib.figure.Figure at 0x1319dafd0>"
      ]
     },
     "metadata": {},
     "output_type": "display_data"
    }
   ],
   "source": [
    "# Visualize number of relationships in companies, only those with 5x average.\n",
    "x = cb_objects[(cb_objects.relationships > avg_relationships * 5)]\n",
    "x = x.sort_values(by = 'relationships', ascending = True)\n",
    "x = x.plot(x = 'name', y = 'relationships', kind = 'barh', title = 'Relationships')\n",
    "\n",
    "# Save as an image.\n",
    "# plt.savefig('plots/avg_relationships.png', format='png', bbox_inches='tight', dpi=1000)"
   ]
  },
  {
   "cell_type": "code",
   "execution_count": null,
   "metadata": {
    "collapsed": true
   },
   "outputs": [],
   "source": [
    "### FUNDS"
   ]
  },
  {
   "cell_type": "code",
   "execution_count": 138,
   "metadata": {
    "collapsed": false
   },
   "outputs": [
    {
     "data": {
      "text/plain": [
       "'Average funding: 14,540,207.953216374'"
      ]
     },
     "execution_count": 138,
     "metadata": {},
     "output_type": "execute_result"
    }
   ],
   "source": [
    "# Average funds per company.\n",
    "avg_funding = np.average(cb_objects[(cb_objects.funding_total_usd.notnull())].funding_total_usd)\n",
    "avg_funding\n",
    "\"Average funding: {:,}\".format(avg_funding)"
   ]
  },
  {
   "cell_type": "code",
   "execution_count": 150,
   "metadata": {
    "collapsed": false
   },
   "outputs": [
    {
     "data": {
      "image/png": "[encoded data removed]",
      "text/plain": [
       "<matplotlib.figure.Figure at 0x1319dca20>"
      ]
     },
     "metadata": {},
     "output_type": "display_data"
    }
   ],
   "source": [
    "# Visualize funds per company, only showing companies with at least 3x average.\n",
    "x = cb_objects[(cb_objects.funding_total_usd > avg_funding * 3)]\n",
    "x = x.sort_values(by = 'funding_total_usd', ascending = True)\n",
    "x = x.plot(x = 'name', y = 'funding_total_usd', kind = 'barh', title = 'Funds')"
   ]
  },
  {
   "cell_type": "code",
   "execution_count": 146,
   "metadata": {
    "collapsed": false
   },
   "outputs": [
    {
     "data": {
      "text/plain": [
       "'400,000,000'"
      ]
     },
     "execution_count": 146,
     "metadata": {},
     "output_type": "execute_result"
    }
   ],
   "source": []
  },
  {
   "cell_type": "code",
   "execution_count": null,
   "metadata": {
    "collapsed": true
   },
   "outputs": [],
   "source": []
  },
  {
   "cell_type": "code",
   "execution_count": null,
   "metadata": {
    "collapsed": true
   },
   "outputs": [],
   "source": []
  },
  {
   "cell_type": "code",
   "execution_count": null,
   "metadata": {
    "collapsed": true
   },
   "outputs": [],
   "source": []
  }
 ],
 "metadata": {
  "kernelspec": {
   "display_name": "Python 3",
   "language": "python",
   "name": "python3"
  },
  "language_info": {
   "codemirror_mode": {
    "name": "ipython",
    "version": 3
   },
   "file_extension": ".py",
   "mimetype": "text/x-python",
   "name": "python",
   "nbconvert_exporter": "python",
   "pygments_lexer": "ipython3",
   "version": "3.5.1"
  }
 },
 "nbformat": 4,
 "nbformat_minor": 0
}
