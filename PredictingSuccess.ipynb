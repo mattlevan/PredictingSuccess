{
 "cells": [
  {
   "cell_type": "markdown",
   "metadata": {},
   "source": [
    "# Crunchbase Snapshot © 2013 Data Analysis Notebook"
   ]
  },
  {
   "cell_type": "markdown",
   "metadata": {},
   "source": [
    "## Import required modules."
   ]
  },
  {
   "cell_type": "code",
   "execution_count": 53,
   "metadata": {
    "collapsed": false
   },
   "outputs": [
    {
     "data": {
      "text/html": [
       "<style>body {\n",
       "    margin: 0;\n",
       "    font-family: Helvetica;\n",
       "}\n",
       "table.dataframe {\n",
       "    border-collapse: collapse;\n",
       "    border: none;\n",
       "}\n",
       "table.dataframe tr {\n",
       "    border: none;\n",
       "}\n",
       "table.dataframe td, table.dataframe th {\n",
       "    margin: 0;\n",
       "    border: 1px solid white;\n",
       "    padding-left: 0.25em;\n",
       "    padding-right: 0.25em;\n",
       "}\n",
       "table.dataframe th:not(:empty) {\n",
       "    background-color: #fec;\n",
       "    text-align: left;\n",
       "    font-weight: normal;\n",
       "}\n",
       "table.dataframe tr:nth-child(2) th:empty {\n",
       "    border-left: none;\n",
       "    border-right: 1px dashed #888;\n",
       "}\n",
       "table.dataframe td {\n",
       "    border: 2px solid #ccf;\n",
       "    background-color: #f4f4ff;\n",
       "}\n",
       "h3 {\n",
       "    color: white;\n",
       "    background-color: black;\n",
       "    padding: 0.5em;\n",
       "}\n",
       "</style>"
      ],
      "text/plain": [
       "<IPython.core.display.HTML object>"
      ]
     },
     "execution_count": 53,
     "metadata": {},
     "output_type": "execute_result"
    }
   ],
   "source": [
    "%matplotlib inline\n",
    "# import matplotlib.pyplot as plt\n",
    "from pandas import DataFrame as df\n",
    "from py2neo import authenticate, Graph, Node, Relationship\n",
    "from scripts.vis import draw\n",
    "import numpy as np\n",
    "# import plotly as py\n",
    "# from plotly.graph_objs import *\n",
    "\n",
    "# CSS files for more aesthetically pleasing inline tables.\n",
    "from IPython.core.display import HTML\n",
    "css = open('css/style-table.css').read() + open('css/style-notebook.css').read()\n",
    "HTML('<style>{}</style>'.format(css))"
   ]
  },
  {
   "cell_type": "markdown",
   "metadata": {},
   "source": [
    "## Import Crunchbase 2013 Snapshot CSV files."
   ]
  },
  {
   "cell_type": "code",
   "execution_count": 5,
   "metadata": {
    "collapsed": false
   },
   "outputs": [],
   "source": [
    "cb_objects = df.from_csv('csv/cb_objects.csv').reset_index('id')\n",
    "cb_acquisitions = df.from_csv('csv/cb_acquisitions.csv').reset_index('id')\n",
    "cb_funding_rounds = df.from_csv('csv/cb_funding_rounds.csv').reset_index('id')\n",
    "cb_funds = df.from_csv('csv/cb_funds.csv').reset_index('id')\n",
    "cb_investments = df.from_csv('csv/cb_investments.csv').reset_index('id')\n",
    "cb_ipos = df.from_csv('csv/cb_ipos.csv').reset_index('id')\n",
    "cb_milestones = df.from_csv('csv/cb_milestones.csv').reset_index('id')\n",
    "cb_offices = df.from_csv('csv/cb_offices.csv').reset_index('id')\n",
    "cb_people = df.from_csv('csv/cb_people.csv').reset_index('id')\n",
    "cb_relationships = df.from_csv('csv/cb_relationships.csv').reset_index('id')"
   ]
  },
  {
   "cell_type": "markdown",
   "metadata": {},
   "source": [
    "## Visualize data frames."
   ]
  },
  {
   "cell_type": "code",
   "execution_count": 257,
   "metadata": {
    "collapsed": false
   },
   "outputs": [
    {
     "data": {
      "text/html": [
       "<div>\n",
       "<table border=\"1\" class=\"dataframe\">\n",
       "  <thead>\n",
       "    <tr style=\"text-align: right;\">\n",
       "      <th></th>\n",
       "      <th>id</th>\n",
       "      <th>entity_type</th>\n",
       "      <th>entity_id</th>\n",
       "      <th>parent_id</th>\n",
       "      <th>name</th>\n",
       "      <th>normalized_name</th>\n",
       "      <th>permalink</th>\n",
       "      <th>category_code</th>\n",
       "      <th>status</th>\n",
       "      <th>founded_at</th>\n",
       "      <th>...</th>\n",
       "      <th>last_funding_at</th>\n",
       "      <th>funding_rounds</th>\n",
       "      <th>funding_total_usd</th>\n",
       "      <th>first_milestone_at</th>\n",
       "      <th>last_milestone_at</th>\n",
       "      <th>milestones</th>\n",
       "      <th>relationships</th>\n",
       "      <th>created_by</th>\n",
       "      <th>created_at</th>\n",
       "      <th>updated_at</th>\n",
       "    </tr>\n",
       "  </thead>\n",
       "  <tbody>\n",
       "    <tr>\n",
       "      <th>0</th>\n",
       "      <td>c:1</td>\n",
       "      <td>Company</td>\n",
       "      <td>1</td>\n",
       "      <td>NaN</td>\n",
       "      <td>Wetpaint</td>\n",
       "      <td>wetpaint</td>\n",
       "      <td>/company/wetpaint</td>\n",
       "      <td>web</td>\n",
       "      <td>operating</td>\n",
       "      <td>2005-10-17</td>\n",
       "      <td>...</td>\n",
       "      <td>2008-05-19</td>\n",
       "      <td>3.0</td>\n",
       "      <td>39750000.0</td>\n",
       "      <td>2010-09-05</td>\n",
       "      <td>2013-09-18</td>\n",
       "      <td>5.0</td>\n",
       "      <td>17.0</td>\n",
       "      <td>initial-importer</td>\n",
       "      <td>2007-05-25 06:51:27</td>\n",
       "      <td>2013-04-13 03:29:00</td>\n",
       "    </tr>\n",
       "    <tr>\n",
       "      <th>1</th>\n",
       "      <td>c:10</td>\n",
       "      <td>Company</td>\n",
       "      <td>10</td>\n",
       "      <td>NaN</td>\n",
       "      <td>Flektor</td>\n",
       "      <td>flektor</td>\n",
       "      <td>/company/flektor</td>\n",
       "      <td>games_video</td>\n",
       "      <td>acquired</td>\n",
       "      <td>NaN</td>\n",
       "      <td>...</td>\n",
       "      <td>NaN</td>\n",
       "      <td>NaN</td>\n",
       "      <td>NaN</td>\n",
       "      <td>NaN</td>\n",
       "      <td>NaN</td>\n",
       "      <td>NaN</td>\n",
       "      <td>6.0</td>\n",
       "      <td>initial-importer</td>\n",
       "      <td>2007-05-31 21:11:51</td>\n",
       "      <td>2008-05-23 23:23:14</td>\n",
       "    </tr>\n",
       "    <tr>\n",
       "      <th>2</th>\n",
       "      <td>c:100</td>\n",
       "      <td>Company</td>\n",
       "      <td>100</td>\n",
       "      <td>NaN</td>\n",
       "      <td>There</td>\n",
       "      <td>there</td>\n",
       "      <td>/company/there</td>\n",
       "      <td>games_video</td>\n",
       "      <td>acquired</td>\n",
       "      <td>NaN</td>\n",
       "      <td>...</td>\n",
       "      <td>NaN</td>\n",
       "      <td>NaN</td>\n",
       "      <td>NaN</td>\n",
       "      <td>2003-02-01</td>\n",
       "      <td>2011-09-23</td>\n",
       "      <td>4.0</td>\n",
       "      <td>12.0</td>\n",
       "      <td>initial-importer</td>\n",
       "      <td>2007-08-06 23:52:45</td>\n",
       "      <td>2013-11-04 02:09:48</td>\n",
       "    </tr>\n",
       "    <tr>\n",
       "      <th>3</th>\n",
       "      <td>c:10000</td>\n",
       "      <td>Company</td>\n",
       "      <td>10000</td>\n",
       "      <td>NaN</td>\n",
       "      <td>MYWEBBO</td>\n",
       "      <td>mywebbo</td>\n",
       "      <td>/company/mywebbo</td>\n",
       "      <td>network_hosting</td>\n",
       "      <td>operating</td>\n",
       "      <td>2008-07-26</td>\n",
       "      <td>...</td>\n",
       "      <td>NaN</td>\n",
       "      <td>NaN</td>\n",
       "      <td>NaN</td>\n",
       "      <td>NaN</td>\n",
       "      <td>NaN</td>\n",
       "      <td>NaN</td>\n",
       "      <td>NaN</td>\n",
       "      <td>NaN</td>\n",
       "      <td>2008-08-24 16:51:57</td>\n",
       "      <td>2008-09-06 14:19:18</td>\n",
       "    </tr>\n",
       "    <tr>\n",
       "      <th>4</th>\n",
       "      <td>c:10001</td>\n",
       "      <td>Company</td>\n",
       "      <td>10001</td>\n",
       "      <td>NaN</td>\n",
       "      <td>THE Movie Streamer</td>\n",
       "      <td>the movie streamer</td>\n",
       "      <td>/company/the-movie-streamer</td>\n",
       "      <td>games_video</td>\n",
       "      <td>operating</td>\n",
       "      <td>2008-07-26</td>\n",
       "      <td>...</td>\n",
       "      <td>NaN</td>\n",
       "      <td>NaN</td>\n",
       "      <td>NaN</td>\n",
       "      <td>NaN</td>\n",
       "      <td>NaN</td>\n",
       "      <td>NaN</td>\n",
       "      <td>NaN</td>\n",
       "      <td>NaN</td>\n",
       "      <td>2008-08-24 17:10:34</td>\n",
       "      <td>2008-09-06 14:19:18</td>\n",
       "    </tr>\n",
       "  </tbody>\n",
       "</table>\n",
       "<p>5 rows × 40 columns</p>\n",
       "</div>"
      ],
      "text/plain": [
       "        id entity_type  entity_id  parent_id                name  \\\n",
       "0      c:1     Company          1        NaN            Wetpaint   \n",
       "1     c:10     Company         10        NaN             Flektor   \n",
       "2    c:100     Company        100        NaN               There   \n",
       "3  c:10000     Company      10000        NaN             MYWEBBO   \n",
       "4  c:10001     Company      10001        NaN  THE Movie Streamer   \n",
       "\n",
       "      normalized_name                    permalink    category_code  \\\n",
       "0            wetpaint            /company/wetpaint              web   \n",
       "1             flektor             /company/flektor      games_video   \n",
       "2               there               /company/there      games_video   \n",
       "3             mywebbo             /company/mywebbo  network_hosting   \n",
       "4  the movie streamer  /company/the-movie-streamer      games_video   \n",
       "\n",
       "      status  founded_at         ...          last_funding_at funding_rounds  \\\n",
       "0  operating  2005-10-17         ...               2008-05-19            3.0   \n",
       "1   acquired         NaN         ...                      NaN            NaN   \n",
       "2   acquired         NaN         ...                      NaN            NaN   \n",
       "3  operating  2008-07-26         ...                      NaN            NaN   \n",
       "4  operating  2008-07-26         ...                      NaN            NaN   \n",
       "\n",
       "  funding_total_usd first_milestone_at last_milestone_at  milestones  \\\n",
       "0        39750000.0         2010-09-05        2013-09-18         5.0   \n",
       "1               NaN                NaN               NaN         NaN   \n",
       "2               NaN         2003-02-01        2011-09-23         4.0   \n",
       "3               NaN                NaN               NaN         NaN   \n",
       "4               NaN                NaN               NaN         NaN   \n",
       "\n",
       "   relationships        created_by           created_at           updated_at  \n",
       "0           17.0  initial-importer  2007-05-25 06:51:27  2013-04-13 03:29:00  \n",
       "1            6.0  initial-importer  2007-05-31 21:11:51  2008-05-23 23:23:14  \n",
       "2           12.0  initial-importer  2007-08-06 23:52:45  2013-11-04 02:09:48  \n",
       "3            NaN               NaN  2008-08-24 16:51:57  2008-09-06 14:19:18  \n",
       "4            NaN               NaN  2008-08-24 17:10:34  2008-09-06 14:19:18  \n",
       "\n",
       "[5 rows x 40 columns]"
      ]
     },
     "execution_count": 257,
     "metadata": {},
     "output_type": "execute_result"
    }
   ],
   "source": [
    "# cb_acquisitions.head()\n",
    "# cb_funding_rounds.head()\n",
    "# cb_funds.head()\n",
    "# cb_investments.head()\n",
    "# cb_ipos.head()\n",
    "# cb_milestones.head()\n",
    "cb_objects.head()\n",
    "# cb_offices.head()\n",
    "# cb_people.head()\n",
    "# cb_relationships.head()"
   ]
  },
  {
   "cell_type": "markdown",
   "metadata": {},
   "source": [
    "## Begin building the neo4j graph."
   ]
  },
  {
   "cell_type": "code",
   "execution_count": 239,
   "metadata": {
    "collapsed": true
   },
   "outputs": [],
   "source": [
    "# Build a graph for the company objects.\n",
    "objects = Graph(user = 'neo4j', password = 'hello')\n",
    "objects.delete_all()"
   ]
  },
  {
   "cell_type": "markdown",
   "metadata": {},
   "source": [
    "## Add companies first."
   ]
  },
  {
   "cell_type": "code",
   "execution_count": 240,
   "metadata": {
    "collapsed": false
   },
   "outputs": [],
   "source": [
    "# Populate the graph with nodes from cb_objects data frame.\n",
    "for i in range(0, len(cb_objects)):\n",
    "    # Instantiate company node.\n",
    "    company = Node('Company', name = cb_objects['name'][i])\n",
    "    # Add node attributes.\n",
    "    for j in list(cb_objects.columns.values):\n",
    "        if type(cb_objects[j][i]) is np.int64:\n",
    "            company[j] = int(cb_objects[j][i])\n",
    "        else:\n",
    "            company[j] = cb_objects[j][i]\n",
    "    \n",
    "    # Add the node to the objects graph.\n",
    "    objects.create(company)"
   ]
  },
  {
   "cell_type": "markdown",
   "metadata": {},
   "source": [
    "## Draw the (lonely) graph of companies."
   ]
  },
  {
   "cell_type": "code",
   "execution_count": 241,
   "metadata": {
    "collapsed": false
   },
   "outputs": [
    {
     "data": {
      "text/html": [
       "\n",
       "        <iframe\n",
       "            width=\"100%\"\n",
       "            height=\"400\"\n",
       "            src=\"figure/graph-643cce9a-2c3b-4ac2-b1b9-bc7a859d55d7.html\"\n",
       "            frameborder=\"0\"\n",
       "            allowfullscreen\n",
       "        ></iframe>\n",
       "        "
      ],
      "text/plain": [
       "<IPython.lib.display.IFrame at 0x10c5d57f0>"
      ]
     },
     "execution_count": 241,
     "metadata": {},
     "output_type": "execute_result"
    }
   ],
   "source": [
    "options = {'Company': 'name'}\n",
    "draw(objects, options, physics = True)"
   ]
  },
  {
   "cell_type": "markdown",
   "metadata": {
    "collapsed": false
   },
   "source": [
    "## Add people to the graph."
   ]
  },
  {
   "cell_type": "code",
   "execution_count": 255,
   "metadata": {
    "collapsed": false
   },
   "outputs": [
    {
     "data": {
      "text/html": [
       "<div>\n",
       "<table border=\"1\" class=\"dataframe\">\n",
       "  <thead>\n",
       "    <tr style=\"text-align: right;\">\n",
       "      <th></th>\n",
       "      <th>id</th>\n",
       "      <th>object_id</th>\n",
       "      <th>first_name</th>\n",
       "      <th>last_name</th>\n",
       "      <th>birthplace</th>\n",
       "      <th>affiliation_name</th>\n",
       "    </tr>\n",
       "  </thead>\n",
       "  <tbody>\n",
       "    <tr>\n",
       "      <th>0</th>\n",
       "      <td>1</td>\n",
       "      <td>p:2</td>\n",
       "      <td>Ben</td>\n",
       "      <td>Elowitz</td>\n",
       "      <td>NaN</td>\n",
       "      <td>Blue Nile</td>\n",
       "    </tr>\n",
       "    <tr>\n",
       "      <th>1</th>\n",
       "      <td>2</td>\n",
       "      <td>p:3</td>\n",
       "      <td>Kevin</td>\n",
       "      <td>Flaherty</td>\n",
       "      <td>NaN</td>\n",
       "      <td>Wetpaint</td>\n",
       "    </tr>\n",
       "    <tr>\n",
       "      <th>2</th>\n",
       "      <td>3</td>\n",
       "      <td>p:4</td>\n",
       "      <td>Raju</td>\n",
       "      <td>Vegesna</td>\n",
       "      <td>NaN</td>\n",
       "      <td>Zoho</td>\n",
       "    </tr>\n",
       "    <tr>\n",
       "      <th>3</th>\n",
       "      <td>4</td>\n",
       "      <td>p:5</td>\n",
       "      <td>Ian</td>\n",
       "      <td>Wenig</td>\n",
       "      <td>NaN</td>\n",
       "      <td>Zoho</td>\n",
       "    </tr>\n",
       "    <tr>\n",
       "      <th>4</th>\n",
       "      <td>5</td>\n",
       "      <td>p:6</td>\n",
       "      <td>Kevin</td>\n",
       "      <td>Rose</td>\n",
       "      <td>Redding, CA</td>\n",
       "      <td>i/o Ventures</td>\n",
       "    </tr>\n",
       "  </tbody>\n",
       "</table>\n",
       "</div>"
      ],
      "text/plain": [
       "   id object_id first_name last_name   birthplace affiliation_name\n",
       "0   1       p:2        Ben   Elowitz          NaN        Blue Nile\n",
       "1   2       p:3      Kevin  Flaherty          NaN         Wetpaint\n",
       "2   3       p:4       Raju   Vegesna          NaN             Zoho\n",
       "3   4       p:5        Ian     Wenig          NaN             Zoho\n",
       "4   5       p:6      Kevin      Rose  Redding, CA     i/o Ventures"
      ]
     },
     "execution_count": 255,
     "metadata": {},
     "output_type": "execute_result"
    }
   ],
   "source": [
    "cb_people.head()"
   ]
  },
  {
   "cell_type": "code",
   "execution_count": 242,
   "metadata": {
    "collapsed": false
   },
   "outputs": [],
   "source": [
    "for i in range(0, len(cb_people)):\n",
    "    # Get the person's attributes.\n",
    "    try:\n",
    "        object_id = cb_people['object_id'][i]\n",
    "        first_name = cb_people['first_name'][i]\n",
    "        last_name = cb_people['last_name'][i]\n",
    "        birthplace = cb_people['birthplace'][i]\n",
    "        affiliation_name = cb_people['affiliation_name'][i]\n",
    "    \n",
    "        person = Node('Person', \n",
    "                      name = first_name + ' ' + last_name, \n",
    "                      last_name = last_name, \n",
    "                      first_name = first_name, \n",
    "                      birthplace = birthplace, \n",
    "                      object_id = object_id,\n",
    "                      affiliation_name = affiliation_name)\n",
    "        \n",
    "        objects.create(person)\n",
    "    except:\n",
    "        continue"
   ]
  },
  {
   "cell_type": "markdown",
   "metadata": {},
   "source": [
    "## Draw the graph of people and companies."
   ]
  },
  {
   "cell_type": "code",
   "execution_count": 243,
   "metadata": {
    "collapsed": false
   },
   "outputs": [
    {
     "data": {
      "text/html": [
       "\n",
       "        <iframe\n",
       "            width=\"100%\"\n",
       "            height=\"400\"\n",
       "            src=\"figure/graph-5b348de3-e0f7-4fe2-bb36-b3a720113ffb.html\"\n",
       "            frameborder=\"0\"\n",
       "            allowfullscreen\n",
       "        ></iframe>\n",
       "        "
      ],
      "text/plain": [
       "<IPython.lib.display.IFrame at 0x10c5c34e0>"
      ]
     },
     "execution_count": 243,
     "metadata": {},
     "output_type": "execute_result"
    }
   ],
   "source": [
    "options = {'Company': 'name', 'Person': 'name'}\n",
    "draw(objects, options, physics = True)"
   ]
  },
  {
   "cell_type": "markdown",
   "metadata": {},
   "source": [
    "## Build relationships between people and companies."
   ]
  },
  {
   "cell_type": "code",
   "execution_count": 244,
   "metadata": {
    "collapsed": false
   },
   "outputs": [],
   "source": [
    "# Build the relationships between people and companies.\n",
    "for i in range(0, len(cb_relationships)):\n",
    "    # Parse each row of cb_relationships frame.\n",
    "    try:\n",
    "        person_id = cb_relationships['person_object_id'][i]\n",
    "        person = objects.find_one('Person', \n",
    "                                  property_key = 'object_id', \n",
    "                                  property_value = person_id)\n",
    "        \n",
    "        company_id = cb_relationships['relationship_object_id'][i]\n",
    "        company = objects.find_one('Company', \n",
    "                                   property_key = 'id', \n",
    "                                   property_value = company_id)\n",
    "        \n",
    "        r = Relationship(person, \"WORKS_FOR\", company)\n",
    "        \n",
    "        objects.create(r)\n",
    "    except:\n",
    "        continue"
   ]
  },
  {
   "cell_type": "markdown",
   "metadata": {},
   "source": [
    "## Draw the graph of people and companies."
   ]
  },
  {
   "cell_type": "code",
   "execution_count": 245,
   "metadata": {
    "collapsed": false
   },
   "outputs": [
    {
     "data": {
      "text/html": [
       "\n",
       "        <iframe\n",
       "            width=\"100%\"\n",
       "            height=\"400\"\n",
       "            src=\"figure/graph-f928fef1-3fc2-4755-b95f-3d45d66b587b.html\"\n",
       "            frameborder=\"0\"\n",
       "            allowfullscreen\n",
       "        ></iframe>\n",
       "        "
      ],
      "text/plain": [
       "<IPython.lib.display.IFrame at 0x10c89bf28>"
      ]
     },
     "execution_count": 245,
     "metadata": {},
     "output_type": "execute_result"
    }
   ],
   "source": [
    "options = {'Company': 'name', 'Person': 'name'}\n",
    "draw(objects, options, physics = True)"
   ]
  },
  {
   "cell_type": "markdown",
   "metadata": {
    "collapsed": true
   },
   "source": [
    "## Add funds to the network."
   ]
  },
  {
   "cell_type": "code",
   "execution_count": 256,
   "metadata": {
    "collapsed": false
   },
   "outputs": [
    {
     "data": {
      "text/html": [
       "<div>\n",
       "<table border=\"1\" class=\"dataframe\">\n",
       "  <thead>\n",
       "    <tr style=\"text-align: right;\">\n",
       "      <th></th>\n",
       "      <th>id</th>\n",
       "      <th>fund_id</th>\n",
       "      <th>object_id</th>\n",
       "      <th>name</th>\n",
       "      <th>funded_at</th>\n",
       "      <th>raised_amount</th>\n",
       "      <th>raised_currency_code</th>\n",
       "      <th>source_url</th>\n",
       "      <th>source_description</th>\n",
       "      <th>created_at</th>\n",
       "      <th>updated_at</th>\n",
       "    </tr>\n",
       "  </thead>\n",
       "  <tbody>\n",
       "    <tr>\n",
       "      <th>0</th>\n",
       "      <td>1</td>\n",
       "      <td>1</td>\n",
       "      <td>f:371</td>\n",
       "      <td>Second Fund</td>\n",
       "      <td>2008-12-16</td>\n",
       "      <td>300000000.0</td>\n",
       "      <td>USD</td>\n",
       "      <td>http://www.pehub.com/26194/dfj-dragon-raising-...</td>\n",
       "      <td>peHub</td>\n",
       "      <td>2008-12-17 03:07:16</td>\n",
       "      <td>2008-12-17 03:07:16</td>\n",
       "    </tr>\n",
       "    <tr>\n",
       "      <th>1</th>\n",
       "      <td>4</td>\n",
       "      <td>4</td>\n",
       "      <td>f:17</td>\n",
       "      <td>Sequoia Israel Fourth Fund</td>\n",
       "      <td>2008-12-17</td>\n",
       "      <td>200750000.0</td>\n",
       "      <td>USD</td>\n",
       "      <td>http://www.pehub.com/26725/sequoia-israel-rais...</td>\n",
       "      <td>Sequoia Israel Raises Fourth Fund</td>\n",
       "      <td>2008-12-18 22:04:42</td>\n",
       "      <td>2008-12-18 22:04:42</td>\n",
       "    </tr>\n",
       "    <tr>\n",
       "      <th>2</th>\n",
       "      <td>5</td>\n",
       "      <td>5</td>\n",
       "      <td>f:951</td>\n",
       "      <td>Tenth fund</td>\n",
       "      <td>2008-08-11</td>\n",
       "      <td>650000000.0</td>\n",
       "      <td>USD</td>\n",
       "      <td>http://venturebeat.com/2008/08/11/interwest-cl...</td>\n",
       "      <td>Venture Beat</td>\n",
       "      <td>2008-12-31 09:47:51</td>\n",
       "      <td>2008-12-31 09:47:51</td>\n",
       "    </tr>\n",
       "    <tr>\n",
       "      <th>3</th>\n",
       "      <td>6</td>\n",
       "      <td>6</td>\n",
       "      <td>f:192</td>\n",
       "      <td>New funds acquire</td>\n",
       "      <td>NaN</td>\n",
       "      <td>625000000.0</td>\n",
       "      <td>USD</td>\n",
       "      <td>http://venturebeat.com/2008/07/28/us-venture-p...</td>\n",
       "      <td>U.S. Venture Partners raises $625M fund for ne...</td>\n",
       "      <td>2009-01-01 18:13:44</td>\n",
       "      <td>2009-01-01 18:16:27</td>\n",
       "    </tr>\n",
       "    <tr>\n",
       "      <th>4</th>\n",
       "      <td>7</td>\n",
       "      <td>7</td>\n",
       "      <td>f:519</td>\n",
       "      <td>Third fund</td>\n",
       "      <td>2008-05-20</td>\n",
       "      <td>200000000.0</td>\n",
       "      <td>USD</td>\n",
       "      <td>http://venturebeat.com/2008/05/20/disneys-stea...</td>\n",
       "      <td>Venture Beat</td>\n",
       "      <td>2009-01-03 09:51:58</td>\n",
       "      <td>2013-09-03 16:34:54</td>\n",
       "    </tr>\n",
       "  </tbody>\n",
       "</table>\n",
       "</div>"
      ],
      "text/plain": [
       "   id  fund_id object_id                        name   funded_at  \\\n",
       "0   1        1     f:371                 Second Fund  2008-12-16   \n",
       "1   4        4      f:17  Sequoia Israel Fourth Fund  2008-12-17   \n",
       "2   5        5     f:951                  Tenth fund  2008-08-11   \n",
       "3   6        6     f:192           New funds acquire         NaN   \n",
       "4   7        7     f:519                  Third fund  2008-05-20   \n",
       "\n",
       "   raised_amount raised_currency_code  \\\n",
       "0    300000000.0                  USD   \n",
       "1    200750000.0                  USD   \n",
       "2    650000000.0                  USD   \n",
       "3    625000000.0                  USD   \n",
       "4    200000000.0                  USD   \n",
       "\n",
       "                                          source_url  \\\n",
       "0  http://www.pehub.com/26194/dfj-dragon-raising-...   \n",
       "1  http://www.pehub.com/26725/sequoia-israel-rais...   \n",
       "2  http://venturebeat.com/2008/08/11/interwest-cl...   \n",
       "3  http://venturebeat.com/2008/07/28/us-venture-p...   \n",
       "4  http://venturebeat.com/2008/05/20/disneys-stea...   \n",
       "\n",
       "                                  source_description           created_at  \\\n",
       "0                                              peHub  2008-12-17 03:07:16   \n",
       "1                  Sequoia Israel Raises Fourth Fund  2008-12-18 22:04:42   \n",
       "2                                       Venture Beat  2008-12-31 09:47:51   \n",
       "3  U.S. Venture Partners raises $625M fund for ne...  2009-01-01 18:13:44   \n",
       "4                                       Venture Beat  2009-01-03 09:51:58   \n",
       "\n",
       "            updated_at  \n",
       "0  2008-12-17 03:07:16  \n",
       "1  2008-12-18 22:04:42  \n",
       "2  2008-12-31 09:47:51  \n",
       "3  2009-01-01 18:16:27  \n",
       "4  2013-09-03 16:34:54  "
      ]
     },
     "execution_count": 256,
     "metadata": {},
     "output_type": "execute_result"
    }
   ],
   "source": [
    "cb_funds.head()"
   ]
  },
  {
   "cell_type": "code",
   "execution_count": 250,
   "metadata": {
    "collapsed": false
   },
   "outputs": [],
   "source": [
    "for i in range(0, len(cb_funds)):\n",
    "    # Get the fund's attributes.\n",
    "    try:\n",
    "        object_id = cb_funds['object_id'][i]\n",
    "        name = cb_funds['name'][i]\n",
    "        raised_amount = cb_funds['raised_amount'][i]\n",
    "        source_url = cb_funds['source_url'][i]\n",
    "    \n",
    "        fund = Node('Fund', \n",
    "                      name = name, \n",
    "                      object_id = object_id,\n",
    "                      raised_amount = raised_amount, \n",
    "                      source_url = source_url)\n",
    "        \n",
    "        objects.create(fund)\n",
    "    except:\n",
    "        continue"
   ]
  },
  {
   "cell_type": "markdown",
   "metadata": {},
   "source": [
    "## Draw the graph, now with companies, people, and funds."
   ]
  },
  {
   "cell_type": "code",
   "execution_count": 251,
   "metadata": {
    "collapsed": false
   },
   "outputs": [
    {
     "data": {
      "text/html": [
       "\n",
       "        <iframe\n",
       "            width=\"100%\"\n",
       "            height=\"400\"\n",
       "            src=\"figure/graph-894cc903-f15a-48c3-beb4-479c0618221e.html\"\n",
       "            frameborder=\"0\"\n",
       "            allowfullscreen\n",
       "        ></iframe>\n",
       "        "
      ],
      "text/plain": [
       "<IPython.lib.display.IFrame at 0x10bf98a58>"
      ]
     },
     "execution_count": 251,
     "metadata": {},
     "output_type": "execute_result"
    }
   ],
   "source": [
    "options = {'Company': 'name', 'Person': 'name', 'Fund': 'name'}\n",
    "draw(objects, options, physics = True)"
   ]
  },
  {
   "cell_type": "markdown",
   "metadata": {},
   "source": [
    "## Build relationships between people and funds."
   ]
  },
  {
   "cell_type": "code",
   "execution_count": 252,
   "metadata": {
    "collapsed": true
   },
   "outputs": [],
   "source": [
    "# Build the relationships between people and companies.\n",
    "for i in range(0, len(cb_relationships)):\n",
    "    # Parse each row of cb_relationships frame.\n",
    "    try:\n",
    "        person_id = cb_relationships['person_object_id'][i]\n",
    "        person = objects.find_one('Person', \n",
    "                                  property_key = 'object_id', \n",
    "                                  property_value = person_id)\n",
    "        \n",
    "        fund_id = cb_relationships['relationship_object_id'][i]\n",
    "        fund = objects.find_one('Fund', \n",
    "                                   property_key = 'id', \n",
    "                                   property_value = fund_id)\n",
    "        \n",
    "        r = Relationship(person, \"WORKS_FOR\", fund)\n",
    "        \n",
    "        objects.create(r)\n",
    "    except:\n",
    "        continue"
   ]
  },
  {
   "cell_type": "markdown",
   "metadata": {},
   "source": [
    "## Draw the graph, including new edges between people and funds."
   ]
  },
  {
   "cell_type": "code",
   "execution_count": 254,
   "metadata": {
    "collapsed": false
   },
   "outputs": [
    {
     "data": {
      "text/html": [
       "\n",
       "        <iframe\n",
       "            width=\"100%\"\n",
       "            height=\"400\"\n",
       "            src=\"figure/graph-0c4ec658-898e-407b-a1d1-62f723a905c3.html\"\n",
       "            frameborder=\"0\"\n",
       "            allowfullscreen\n",
       "        ></iframe>\n",
       "        "
      ],
      "text/plain": [
       "<IPython.lib.display.IFrame at 0x10c8a4080>"
      ]
     },
     "execution_count": 254,
     "metadata": {},
     "output_type": "execute_result"
    }
   ],
   "source": [
    "options = {'Company': 'name', 'Person': 'name', 'Fund': 'name'}\n",
    "draw(objects, options, physics = True)"
   ]
  },
  {
   "cell_type": "code",
   "execution_count": null,
   "metadata": {
    "collapsed": true
   },
   "outputs": [],
   "source": []
  },
  {
   "cell_type": "code",
   "execution_count": null,
   "metadata": {
    "collapsed": true
   },
   "outputs": [],
   "source": []
  },
  {
   "cell_type": "code",
   "execution_count": null,
   "metadata": {
    "collapsed": true
   },
   "outputs": [],
   "source": []
  },
  {
   "cell_type": "code",
   "execution_count": null,
   "metadata": {
    "collapsed": true
   },
   "outputs": [],
   "source": []
  }
 ],
 "metadata": {
  "kernelspec": {
   "display_name": "Python 3",
   "language": "python",
   "name": "python3"
  },
  "language_info": {
   "codemirror_mode": {
    "name": "ipython",
    "version": 3
   },
   "file_extension": ".py",
   "mimetype": "text/x-python",
   "name": "python",
   "nbconvert_exporter": "python",
   "pygments_lexer": "ipython3",
   "version": "3.5.1"
  }
 },
 "nbformat": 4,
 "nbformat_minor": 0
}
