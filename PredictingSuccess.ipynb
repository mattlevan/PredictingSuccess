{
 "cells": [
  {
   "cell_type": "markdown",
   "metadata": {},
   "source": [
    "# Crunchbase Snapshot © 2013 Data Analysis Notebook"
   ]
  },
  {
   "cell_type": "markdown",
   "metadata": {},
   "source": [
    "## Import required modules."
   ]
  },
  {
   "cell_type": "code",
   "execution_count": 48,
   "metadata": {
    "collapsed": false
   },
   "outputs": [
    {
     "data": {
      "text/html": [
       "<style>body {\n",
       "    margin: 0;\n",
       "    font-family: Helvetica;\n",
       "}\n",
       "table.dataframe {\n",
       "    border-collapse: collapse;\n",
       "    border: none;\n",
       "}\n",
       "table.dataframe tr {\n",
       "    border: none;\n",
       "}\n",
       "table.dataframe td, table.dataframe th {\n",
       "    margin: 0;\n",
       "    border: 1px solid white;\n",
       "    padding-left: 0.25em;\n",
       "    padding-right: 0.25em;\n",
       "}\n",
       "table.dataframe th:not(:empty) {\n",
       "    background-color: #fec;\n",
       "    text-align: left;\n",
       "    font-weight: normal;\n",
       "}\n",
       "table.dataframe tr:nth-child(2) th:empty {\n",
       "    border-left: none;\n",
       "    border-right: 1px dashed #888;\n",
       "}\n",
       "table.dataframe td {\n",
       "    border: 2px solid #ccf;\n",
       "    background-color: #f4f4ff;\n",
       "}\n",
       "h3 {\n",
       "    color: white;\n",
       "    background-color: black;\n",
       "    padding: 0.5em;\n",
       "}\n",
       "</style>"
      ],
      "text/plain": [
       "<IPython.core.display.HTML object>"
      ]
     },
     "execution_count": 48,
     "metadata": {},
     "output_type": "execute_result"
    }
   ],
   "source": [
    "%matplotlib inline\n",
    "# import matplotlib.pyplot as plt\n",
    "from pandas import DataFrame as df\n",
    "from py2neo import authenticate, Graph, Node, Relationship\n",
    "from scripts.vis import draw\n",
    "import numpy as np\n",
    "# import plotly as py\n",
    "# from plotly.graph_objs import *\n",
    "\n",
    "# CSS files for more aesthetically pleasing inline tables.\n",
    "from IPython.core.display import HTML\n",
    "css = open('css/style-table.css').read() + open('css/style-notebook.css').read()\n",
    "HTML('<style>{}</style>'.format(css))"
   ]
  },
  {
   "cell_type": "markdown",
   "metadata": {},
   "source": [
    "## Import Crunchbase Snapshot © 2013 CSV files."
   ]
  },
  {
   "cell_type": "code",
   "execution_count": 9,
   "metadata": {
    "collapsed": false
   },
   "outputs": [],
   "source": [
    "cb_objects = df.from_csv('csv/cb_objects.csv').reset_index('id').fillna('')\n",
    "cb_acquisitions = df.from_csv('csv/cb_acquisitions.csv').reset_index('id').fillna('')\n",
    "cb_funding_rounds = df.from_csv('csv/cb_funding_rounds.csv').reset_index('id').fillna('')\n",
    "cb_funds = df.from_csv('csv/cb_funds.csv').reset_index('id').fillna('')\n",
    "cb_investments = df.from_csv('csv/cb_investments.csv').reset_index('id').fillna('')\n",
    "cb_ipos = df.from_csv('csv/cb_ipos.csv').reset_index('id').fillna('')\n",
    "cb_milestones = df.from_csv('csv/cb_milestones.csv').reset_index('id').fillna('')\n",
    "cb_offices = df.from_csv('csv/cb_offices.csv').reset_index('id').fillna('')\n",
    "cb_people = df.from_csv('csv/cb_people.csv').reset_index('id').fillna('')\n",
    "cb_relationships = df.from_csv('csv/cb_relationships.csv').reset_index('id').fillna('')\n",
    "\n",
    "odm_organizations = df.from_csv('csv/odm_organizations.csv').reset_index('crunchbase_uuid').fillna('')\n",
    "odm_people = df.from_csv('csv/odm_people.csv').reset_index('crunchbase_uuid').fillna('')"
   ]
  },
  {
   "cell_type": "markdown",
   "metadata": {},
   "source": [
    "## Visualize data frames."
   ]
  },
  {
   "cell_type": "code",
   "execution_count": 52,
   "metadata": {
    "collapsed": false
   },
   "outputs": [
    {
     "data": {
      "text/html": [
       "<div>\n",
       "<table border=\"1\" class=\"dataframe\">\n",
       "  <thead>\n",
       "    <tr style=\"text-align: right;\">\n",
       "      <th></th>\n",
       "      <th>crunchbase_uuid</th>\n",
       "      <th>type</th>\n",
       "      <th>primary_role</th>\n",
       "      <th>name</th>\n",
       "      <th>crunchbase_url</th>\n",
       "      <th>homepage_domain</th>\n",
       "      <th>homepage_url</th>\n",
       "      <th>profile_image_url</th>\n",
       "      <th>facebook_url</th>\n",
       "      <th>twitter_url</th>\n",
       "      <th>linkedin_url</th>\n",
       "      <th>stock_symbol</th>\n",
       "      <th>location_city</th>\n",
       "      <th>location_region</th>\n",
       "      <th>location_country_code</th>\n",
       "      <th>short_description</th>\n",
       "    </tr>\n",
       "  </thead>\n",
       "  <tbody>\n",
       "    <tr>\n",
       "      <th>0</th>\n",
       "      <td>e1393508-30ea-8a36-3f96-dd3226033abd</td>\n",
       "      <td>Organization</td>\n",
       "      <td>company</td>\n",
       "      <td>Wetpaint</td>\n",
       "      <td>https://www.crunchbase.com/organization/wetpai...</td>\n",
       "      <td>wetpaint-inc.com</td>\n",
       "      <td>http://wetpaint-inc.com</td>\n",
       "      <td>https://www.crunchbase.com/organization/wetpai...</td>\n",
       "      <td></td>\n",
       "      <td>http://twitter.com/BachelrWetpaint</td>\n",
       "      <td></td>\n",
       "      <td>:</td>\n",
       "      <td>Seattle</td>\n",
       "      <td>Washington</td>\n",
       "      <td>USA</td>\n",
       "      <td>Wetpaint offers an online social publishing pl...</td>\n",
       "    </tr>\n",
       "    <tr>\n",
       "      <th>1</th>\n",
       "      <td>bf4d7b0e-b34d-2fd8-d292-6049c4f7efc7</td>\n",
       "      <td>Organization</td>\n",
       "      <td>company</td>\n",
       "      <td>Zoho</td>\n",
       "      <td>https://www.crunchbase.com/organization/zoho?u...</td>\n",
       "      <td>zoho.com</td>\n",
       "      <td>https://www.zoho.com/</td>\n",
       "      <td>https://www.crunchbase.com/organization/zoho/p...</td>\n",
       "      <td>http://www.facebook.com/zoho</td>\n",
       "      <td>http://twitter.com/zoho</td>\n",
       "      <td>http://www.linkedin.com/company/zoho-corporati...</td>\n",
       "      <td>:</td>\n",
       "      <td>Pleasanton</td>\n",
       "      <td>California</td>\n",
       "      <td>USA</td>\n",
       "      <td>Run your entire business with Zoho's suite of ...</td>\n",
       "    </tr>\n",
       "    <tr>\n",
       "      <th>2</th>\n",
       "      <td>5f2b40b8-d1b3-d323-d81a-b7a8e89553d0</td>\n",
       "      <td>Organization</td>\n",
       "      <td>company</td>\n",
       "      <td>Digg</td>\n",
       "      <td>https://www.crunchbase.com/organization/digg?u...</td>\n",
       "      <td>digg.com</td>\n",
       "      <td>http://www.digg.com</td>\n",
       "      <td>https://www.crunchbase.com/organization/digg/p...</td>\n",
       "      <td>http://www.facebook.com/digg</td>\n",
       "      <td>http://twitter.com/digg</td>\n",
       "      <td>http://www.linkedin.com/company/digg</td>\n",
       "      <td>:</td>\n",
       "      <td></td>\n",
       "      <td></td>\n",
       "      <td></td>\n",
       "      <td>Digg Inc. operates a website that enables its ...</td>\n",
       "    </tr>\n",
       "    <tr>\n",
       "      <th>3</th>\n",
       "      <td>f4d5ab44-058b-298b-ea81-380e6e9a8eec</td>\n",
       "      <td>Organization</td>\n",
       "      <td>investor</td>\n",
       "      <td>Omidyar Network</td>\n",
       "      <td>https://www.crunchbase.com/organization/omidya...</td>\n",
       "      <td>omidyar.com</td>\n",
       "      <td>http://www.omidyar.com</td>\n",
       "      <td>https://www.crunchbase.com/organization/omidya...</td>\n",
       "      <td>http://www.facebook.com/OmidyarNetwork</td>\n",
       "      <td>http://twitter.com/OmidyarNetwork</td>\n",
       "      <td>http://www.linkedin.com/company/22806</td>\n",
       "      <td>:</td>\n",
       "      <td>Redwood City</td>\n",
       "      <td>California</td>\n",
       "      <td>USA</td>\n",
       "      <td>Pierre Omidyar, the founder of eBay, and his w...</td>\n",
       "    </tr>\n",
       "    <tr>\n",
       "      <th>4</th>\n",
       "      <td>df662812-7f97-0b43-9d3e-12f64f504fbb</td>\n",
       "      <td>Organization</td>\n",
       "      <td>company</td>\n",
       "      <td>Facebook</td>\n",
       "      <td>https://www.crunchbase.com/organization/facebo...</td>\n",
       "      <td>facebook.com</td>\n",
       "      <td>http://www.facebook.com</td>\n",
       "      <td>https://www.crunchbase.com/organization/facebo...</td>\n",
       "      <td>https://www.facebook.com/</td>\n",
       "      <td>https://twitter.com/facebook</td>\n",
       "      <td>http://www.linkedin.com/company/facebook</td>\n",
       "      <td>NASDAQ:FB</td>\n",
       "      <td>Menlo Park</td>\n",
       "      <td>California</td>\n",
       "      <td>USA</td>\n",
       "      <td>Facebook is an online social networking servic...</td>\n",
       "    </tr>\n",
       "  </tbody>\n",
       "</table>\n",
       "</div>"
      ],
      "text/plain": [
       "                        crunchbase_uuid          type primary_role  \\\n",
       "0  e1393508-30ea-8a36-3f96-dd3226033abd  Organization      company   \n",
       "1  bf4d7b0e-b34d-2fd8-d292-6049c4f7efc7  Organization      company   \n",
       "2  5f2b40b8-d1b3-d323-d81a-b7a8e89553d0  Organization      company   \n",
       "3  f4d5ab44-058b-298b-ea81-380e6e9a8eec  Organization     investor   \n",
       "4  df662812-7f97-0b43-9d3e-12f64f504fbb  Organization      company   \n",
       "\n",
       "              name                                     crunchbase_url  \\\n",
       "0         Wetpaint  https://www.crunchbase.com/organization/wetpai...   \n",
       "1             Zoho  https://www.crunchbase.com/organization/zoho?u...   \n",
       "2             Digg  https://www.crunchbase.com/organization/digg?u...   \n",
       "3  Omidyar Network  https://www.crunchbase.com/organization/omidya...   \n",
       "4         Facebook  https://www.crunchbase.com/organization/facebo...   \n",
       "\n",
       "    homepage_domain             homepage_url  \\\n",
       "0  wetpaint-inc.com  http://wetpaint-inc.com   \n",
       "1          zoho.com    https://www.zoho.com/   \n",
       "2          digg.com      http://www.digg.com   \n",
       "3       omidyar.com   http://www.omidyar.com   \n",
       "4      facebook.com  http://www.facebook.com   \n",
       "\n",
       "                                   profile_image_url  \\\n",
       "0  https://www.crunchbase.com/organization/wetpai...   \n",
       "1  https://www.crunchbase.com/organization/zoho/p...   \n",
       "2  https://www.crunchbase.com/organization/digg/p...   \n",
       "3  https://www.crunchbase.com/organization/omidya...   \n",
       "4  https://www.crunchbase.com/organization/facebo...   \n",
       "\n",
       "                             facebook_url                         twitter_url  \\\n",
       "0                                          http://twitter.com/BachelrWetpaint   \n",
       "1            http://www.facebook.com/zoho             http://twitter.com/zoho   \n",
       "2            http://www.facebook.com/digg             http://twitter.com/digg   \n",
       "3  http://www.facebook.com/OmidyarNetwork   http://twitter.com/OmidyarNetwork   \n",
       "4               https://www.facebook.com/        https://twitter.com/facebook   \n",
       "\n",
       "                                        linkedin_url stock_symbol  \\\n",
       "0                                                               :   \n",
       "1  http://www.linkedin.com/company/zoho-corporati...            :   \n",
       "2               http://www.linkedin.com/company/digg            :   \n",
       "3              http://www.linkedin.com/company/22806            :   \n",
       "4           http://www.linkedin.com/company/facebook    NASDAQ:FB   \n",
       "\n",
       "  location_city location_region location_country_code  \\\n",
       "0       Seattle      Washington                   USA   \n",
       "1    Pleasanton      California                   USA   \n",
       "2                                                       \n",
       "3  Redwood City      California                   USA   \n",
       "4    Menlo Park      California                   USA   \n",
       "\n",
       "                                   short_description  \n",
       "0  Wetpaint offers an online social publishing pl...  \n",
       "1  Run your entire business with Zoho's suite of ...  \n",
       "2  Digg Inc. operates a website that enables its ...  \n",
       "3  Pierre Omidyar, the founder of eBay, and his w...  \n",
       "4  Facebook is an online social networking servic...  "
      ]
     },
     "execution_count": 52,
     "metadata": {},
     "output_type": "execute_result"
    }
   ],
   "source": [
    "# cb_acquisitions.head()\n",
    "# cb_funding_rounds.head()\n",
    "# cb_funds.head()\n",
    "# cb_investments.head()\n",
    "# cb_ipos.head()\n",
    "# cb_milestones.head()\n",
    "# cb_objects.head()\n",
    "# cb_offices.head()\n",
    "# cb_people.head()\n",
    "# cb_relationships.head()\n",
    "odm_organizations.head()\n",
    "# odm_people.head()"
   ]
  },
  {
   "cell_type": "markdown",
   "metadata": {},
   "source": [
    "## Begin building the neo4j graph."
   ]
  },
  {
   "cell_type": "code",
   "execution_count": 11,
   "metadata": {
    "collapsed": true
   },
   "outputs": [],
   "source": [
    "objects = Graph(user = 'neo4j', password = 'hello')\n",
    "objects.delete_all()"
   ]
  },
  {
   "cell_type": "markdown",
   "metadata": {},
   "source": [
    "## Add organizations first."
   ]
  },
  {
   "cell_type": "code",
   "execution_count": 12,
   "metadata": {
    "collapsed": false
   },
   "outputs": [],
   "source": [
    "# Populate the graph with nodes from odm_organizations data frame.\n",
    "for i in range(0, len(odm_organizations)):\n",
    "    # Instantiate organization node.\n",
    "    company = Node('Organization', name = odm_organizations['name'][i])\n",
    "    # Add node attributes.\n",
    "    for j in list(odm_organizations.columns.values):\n",
    "        if type(odm_organizations[j][i]) is np.int64:\n",
    "            company[j] = int(odm_organizations[j][i])\n",
    "        else:\n",
    "            company[j] = odm_organizations[j][i]\n",
    "    \n",
    "    # Add the node to the objects graph.\n",
    "    objects.create(company)"
   ]
  },
  {
   "cell_type": "markdown",
   "metadata": {},
   "source": [
    "## Draw the graph of organizations."
   ]
  },
  {
   "cell_type": "code",
   "execution_count": 13,
   "metadata": {
    "collapsed": false
   },
   "outputs": [
    {
     "data": {
      "text/html": [
       "\n",
       "        <iframe\n",
       "            width=\"100%\"\n",
       "            height=\"400\"\n",
       "            src=\"figure/graph-c31bc03b-f62f-4c52-a3f4-4dfe08208f6d.html\"\n",
       "            frameborder=\"0\"\n",
       "            allowfullscreen\n",
       "        ></iframe>\n",
       "        "
      ],
      "text/plain": [
       "<IPython.lib.display.IFrame at 0x1083e3710>"
      ]
     },
     "execution_count": 13,
     "metadata": {},
     "output_type": "execute_result"
    }
   ],
   "source": [
    "options = {'Organization': 'name'}\n",
    "draw(objects, options, physics = True)"
   ]
  },
  {
   "cell_type": "markdown",
   "metadata": {
    "collapsed": false
   },
   "source": [
    "## Add people to the graph."
   ]
  },
  {
   "cell_type": "code",
   "execution_count": 21,
   "metadata": {
    "collapsed": true
   },
   "outputs": [],
   "source": [
    "for i in range(0, len(odm_people)):\n",
    "    # Get the person's attributes.\n",
    "    try:\n",
    "        title = odm_people['title'][i]\n",
    "        first_name = odm_people['first_name'][i]\n",
    "        last_name = odm_people['last_name'][i]\n",
    "        city = odm_people['location_city'][i]\n",
    "        region = odm_people['location_region'][i]\n",
    "        country = odm_people['location_country_code'][i]\n",
    "        organization = odm_people['organization'][i]\n",
    "    \n",
    "        person = Node('Person', \n",
    "                      name = first_name + ' ' + last_name, \n",
    "                      last_name = last_name, \n",
    "                      first_name = first_name, \n",
    "                      city = city, \n",
    "                      region = region,\n",
    "                      country = country,\n",
    "                      organization = organization)\n",
    "        \n",
    "        objects.create(person)\n",
    "    except:\n",
    "        continue"
   ]
  },
  {
   "cell_type": "markdown",
   "metadata": {},
   "source": [
    "## Draw the graph of people and organizations."
   ]
  },
  {
   "cell_type": "code",
   "execution_count": 22,
   "metadata": {
    "collapsed": false
   },
   "outputs": [
    {
     "data": {
      "text/html": [
       "\n",
       "        <iframe\n",
       "            width=\"100%\"\n",
       "            height=\"400\"\n",
       "            src=\"figure/graph-0c0aea83-e0bc-4652-9d28-632658f79e6b.html\"\n",
       "            frameborder=\"0\"\n",
       "            allowfullscreen\n",
       "        ></iframe>\n",
       "        "
      ],
      "text/plain": [
       "<IPython.lib.display.IFrame at 0x107e747f0>"
      ]
     },
     "execution_count": 22,
     "metadata": {},
     "output_type": "execute_result"
    }
   ],
   "source": [
    "options = {'Organization': 'name', 'Person': 'name'}\n",
    "draw(objects, options, physics = True)"
   ]
  },
  {
   "cell_type": "markdown",
   "metadata": {},
   "source": [
    "## Build relationships between people and organizations."
   ]
  },
  {
   "cell_type": "code",
   "execution_count": 32,
   "metadata": {
    "collapsed": false
   },
   "outputs": [
    {
     "data": {
      "text/plain": [
       "18776"
      ]
     },
     "execution_count": 32,
     "metadata": {},
     "output_type": "execute_result"
    }
   ],
   "source": [
    "for i in range(0, len(odm_people)):\n",
    "    # Parse each row of odm_people frame.\n",
    "    try:\n",
    "        name = odm_people['first_name'][i] + ' ' + odm_people['last_name'][i]\n",
    "        person = objects.find_one('Person', \n",
    "                                  property_key = 'name', \n",
    "                                  property_value = name)\n",
    "        \n",
    "        organization = objects.find_one('Organization', \n",
    "                                   property_key = 'name', \n",
    "                                   property_value = odm_people['organization'][i])\n",
    "        \n",
    "        r = Relationship(person, \"WORKS_FOR\", organization)\n",
    "        \n",
    "        objects.create(r)\n",
    "    except:\n",
    "        continue"
   ]
  },
  {
   "cell_type": "markdown",
   "metadata": {},
   "source": [
    "## Draw the graph with org/person relationships ."
   ]
  },
  {
   "cell_type": "code",
   "execution_count": 49,
   "metadata": {
    "collapsed": false
   },
   "outputs": [
    {
     "data": {
      "text/html": [
       "\n",
       "        <iframe\n",
       "            width=\"100%\"\n",
       "            height=\"400\"\n",
       "            src=\"figure/graph-055b1e17-833f-40d9-9e25-2b53622c336b.html\"\n",
       "            frameborder=\"0\"\n",
       "            allowfullscreen\n",
       "        ></iframe>\n",
       "        "
      ],
      "text/plain": [
       "<IPython.lib.display.IFrame at 0x1084662b0>"
      ]
     },
     "execution_count": 49,
     "metadata": {},
     "output_type": "execute_result"
    }
   ],
   "source": [
    "options = {'Organization': 'name', 'Person': 'name'}\n",
    "draw(objects, options, physics = True)"
   ]
  },
  {
   "cell_type": "markdown",
   "metadata": {
    "collapsed": true
   },
   "source": [
    "## Add funds to the network."
   ]
  },
  {
   "cell_type": "code",
   "execution_count": 41,
   "metadata": {
    "collapsed": false
   },
   "outputs": [
    {
     "data": {
      "text/html": [
       "<div>\n",
       "<table border=\"1\" class=\"dataframe\">\n",
       "  <thead>\n",
       "    <tr style=\"text-align: right;\">\n",
       "      <th></th>\n",
       "      <th>id</th>\n",
       "      <th>fund_id</th>\n",
       "      <th>object_id</th>\n",
       "      <th>name</th>\n",
       "      <th>funded_at</th>\n",
       "      <th>raised_amount</th>\n",
       "      <th>raised_currency_code</th>\n",
       "      <th>source_url</th>\n",
       "      <th>source_description</th>\n",
       "      <th>created_at</th>\n",
       "      <th>updated_at</th>\n",
       "    </tr>\n",
       "  </thead>\n",
       "  <tbody>\n",
       "    <tr>\n",
       "      <th>0</th>\n",
       "      <td>1</td>\n",
       "      <td>1</td>\n",
       "      <td>f:371</td>\n",
       "      <td>Second Fund</td>\n",
       "      <td>2008-12-16</td>\n",
       "      <td>3e+08</td>\n",
       "      <td>USD</td>\n",
       "      <td>http://www.pehub.com/26194/dfj-dragon-raising-...</td>\n",
       "      <td>peHub</td>\n",
       "      <td>2008-12-17 03:07:16</td>\n",
       "      <td>2008-12-17 03:07:16</td>\n",
       "    </tr>\n",
       "    <tr>\n",
       "      <th>1</th>\n",
       "      <td>4</td>\n",
       "      <td>4</td>\n",
       "      <td>f:17</td>\n",
       "      <td>Sequoia Israel Fourth Fund</td>\n",
       "      <td>2008-12-17</td>\n",
       "      <td>2.0075e+08</td>\n",
       "      <td>USD</td>\n",
       "      <td>http://www.pehub.com/26725/sequoia-israel-rais...</td>\n",
       "      <td>Sequoia Israel Raises Fourth Fund</td>\n",
       "      <td>2008-12-18 22:04:42</td>\n",
       "      <td>2008-12-18 22:04:42</td>\n",
       "    </tr>\n",
       "    <tr>\n",
       "      <th>2</th>\n",
       "      <td>5</td>\n",
       "      <td>5</td>\n",
       "      <td>f:951</td>\n",
       "      <td>Tenth fund</td>\n",
       "      <td>2008-08-11</td>\n",
       "      <td>6.5e+08</td>\n",
       "      <td>USD</td>\n",
       "      <td>http://venturebeat.com/2008/08/11/interwest-cl...</td>\n",
       "      <td>Venture Beat</td>\n",
       "      <td>2008-12-31 09:47:51</td>\n",
       "      <td>2008-12-31 09:47:51</td>\n",
       "    </tr>\n",
       "    <tr>\n",
       "      <th>3</th>\n",
       "      <td>6</td>\n",
       "      <td>6</td>\n",
       "      <td>f:192</td>\n",
       "      <td>New funds acquire</td>\n",
       "      <td></td>\n",
       "      <td>6.25e+08</td>\n",
       "      <td>USD</td>\n",
       "      <td>http://venturebeat.com/2008/07/28/us-venture-p...</td>\n",
       "      <td>U.S. Venture Partners raises $625M fund for ne...</td>\n",
       "      <td>2009-01-01 18:13:44</td>\n",
       "      <td>2009-01-01 18:16:27</td>\n",
       "    </tr>\n",
       "    <tr>\n",
       "      <th>4</th>\n",
       "      <td>7</td>\n",
       "      <td>7</td>\n",
       "      <td>f:519</td>\n",
       "      <td>Third fund</td>\n",
       "      <td>2008-05-20</td>\n",
       "      <td>2e+08</td>\n",
       "      <td>USD</td>\n",
       "      <td>http://venturebeat.com/2008/05/20/disneys-stea...</td>\n",
       "      <td>Venture Beat</td>\n",
       "      <td>2009-01-03 09:51:58</td>\n",
       "      <td>2013-09-03 16:34:54</td>\n",
       "    </tr>\n",
       "  </tbody>\n",
       "</table>\n",
       "</div>"
      ],
      "text/plain": [
       "   id  fund_id object_id                        name   funded_at  \\\n",
       "0   1        1     f:371                 Second Fund  2008-12-16   \n",
       "1   4        4      f:17  Sequoia Israel Fourth Fund  2008-12-17   \n",
       "2   5        5     f:951                  Tenth fund  2008-08-11   \n",
       "3   6        6     f:192           New funds acquire               \n",
       "4   7        7     f:519                  Third fund  2008-05-20   \n",
       "\n",
       "  raised_amount raised_currency_code  \\\n",
       "0         3e+08                  USD   \n",
       "1    2.0075e+08                  USD   \n",
       "2       6.5e+08                  USD   \n",
       "3      6.25e+08                  USD   \n",
       "4         2e+08                  USD   \n",
       "\n",
       "                                          source_url  \\\n",
       "0  http://www.pehub.com/26194/dfj-dragon-raising-...   \n",
       "1  http://www.pehub.com/26725/sequoia-israel-rais...   \n",
       "2  http://venturebeat.com/2008/08/11/interwest-cl...   \n",
       "3  http://venturebeat.com/2008/07/28/us-venture-p...   \n",
       "4  http://venturebeat.com/2008/05/20/disneys-stea...   \n",
       "\n",
       "                                  source_description           created_at  \\\n",
       "0                                              peHub  2008-12-17 03:07:16   \n",
       "1                  Sequoia Israel Raises Fourth Fund  2008-12-18 22:04:42   \n",
       "2                                       Venture Beat  2008-12-31 09:47:51   \n",
       "3  U.S. Venture Partners raises $625M fund for ne...  2009-01-01 18:13:44   \n",
       "4                                       Venture Beat  2009-01-03 09:51:58   \n",
       "\n",
       "            updated_at  \n",
       "0  2008-12-17 03:07:16  \n",
       "1  2008-12-18 22:04:42  \n",
       "2  2008-12-31 09:47:51  \n",
       "3  2009-01-01 18:16:27  \n",
       "4  2013-09-03 16:34:54  "
      ]
     },
     "execution_count": 41,
     "metadata": {},
     "output_type": "execute_result"
    }
   ],
   "source": [
    "cb_funds.head()"
   ]
  },
  {
   "cell_type": "code",
   "execution_count": 53,
   "metadata": {
    "collapsed": false
   },
   "outputs": [],
   "source": [
    "for i in range(0, len(cb_funds)):\n",
    "    # Get the fund's attributes.\n",
    "    try:\n",
    "        object_id = cb_funds['object_id'][i]\n",
    "        name = cb_funds['name'][i]\n",
    "        raised_amount = cb_funds['raised_amount'][i]\n",
    "        source_url = cb_funds['source_url'][i]\n",
    "        funded_at = cb_funds['funded_at'][i]\n",
    "    \n",
    "        fund = Node('Fund', \n",
    "                    name = name, \n",
    "                    object_id = object_id,\n",
    "                    raised_amount = raised_amount, \n",
    "                    source_url = source_url, \n",
    "                    funded_at = funded_at)\n",
    "        \n",
    "        objects.create(fund)\n",
    "    except:\n",
    "        continue"
   ]
  },
  {
   "cell_type": "markdown",
   "metadata": {},
   "source": [
    "## Draw the graph, now with companies, people, and funds."
   ]
  },
  {
   "cell_type": "code",
   "execution_count": 59,
   "metadata": {
    "collapsed": false
   },
   "outputs": [
    {
     "data": {
      "text/html": [
       "\n",
       "        <iframe\n",
       "            width=\"100%\"\n",
       "            height=\"400\"\n",
       "            src=\"figure/graph-2d84d3db-20ae-45a5-b0ba-0d9f03279a1a.html\"\n",
       "            frameborder=\"0\"\n",
       "            allowfullscreen\n",
       "        ></iframe>\n",
       "        "
      ],
      "text/plain": [
       "<IPython.lib.display.IFrame at 0x10850f668>"
      ]
     },
     "execution_count": 59,
     "metadata": {},
     "output_type": "execute_result"
    }
   ],
   "source": [
    "options = {'Company': 'name', 'Person': 'name', 'Fund': 'name'}\n",
    "draw(objects, options, physics = True)"
   ]
  },
  {
   "cell_type": "markdown",
   "metadata": {},
   "source": [
    "## Add offices."
   ]
  },
  {
   "cell_type": "code",
   "execution_count": 40,
   "metadata": {
    "collapsed": false
   },
   "outputs": [
    {
     "data": {
      "text/html": [
       "<div>\n",
       "<table border=\"1\" class=\"dataframe\">\n",
       "  <thead>\n",
       "    <tr style=\"text-align: right;\">\n",
       "      <th></th>\n",
       "      <th>id</th>\n",
       "      <th>object_id</th>\n",
       "      <th>office_id</th>\n",
       "      <th>description</th>\n",
       "      <th>region</th>\n",
       "      <th>address1</th>\n",
       "      <th>address2</th>\n",
       "      <th>city</th>\n",
       "      <th>zip_code</th>\n",
       "      <th>state_code</th>\n",
       "      <th>country_code</th>\n",
       "      <th>latitude</th>\n",
       "      <th>longitude</th>\n",
       "      <th>created_at</th>\n",
       "      <th>updated_at</th>\n",
       "    </tr>\n",
       "  </thead>\n",
       "  <tbody>\n",
       "    <tr>\n",
       "      <th>0</th>\n",
       "      <td>1</td>\n",
       "      <td>c:1</td>\n",
       "      <td>1</td>\n",
       "      <td></td>\n",
       "      <td>Seattle</td>\n",
       "      <td>710 - 2nd Avenue</td>\n",
       "      <td>Suite 1100</td>\n",
       "      <td>Seattle</td>\n",
       "      <td>98104</td>\n",
       "      <td>WA</td>\n",
       "      <td>USA</td>\n",
       "      <td>47.6031</td>\n",
       "      <td>-122.333</td>\n",
       "      <td></td>\n",
       "      <td></td>\n",
       "    </tr>\n",
       "    <tr>\n",
       "      <th>1</th>\n",
       "      <td>2</td>\n",
       "      <td>c:3</td>\n",
       "      <td>3</td>\n",
       "      <td>Headquarters</td>\n",
       "      <td>SF Bay</td>\n",
       "      <td>4900 Hopyard Rd</td>\n",
       "      <td>Suite 310</td>\n",
       "      <td>Pleasanton</td>\n",
       "      <td>94588</td>\n",
       "      <td>CA</td>\n",
       "      <td>USA</td>\n",
       "      <td>37.6929</td>\n",
       "      <td>-121.905</td>\n",
       "      <td></td>\n",
       "      <td></td>\n",
       "    </tr>\n",
       "    <tr>\n",
       "      <th>2</th>\n",
       "      <td>3</td>\n",
       "      <td>c:4</td>\n",
       "      <td>4</td>\n",
       "      <td></td>\n",
       "      <td>SF Bay</td>\n",
       "      <td>135 Mississippi St</td>\n",
       "      <td></td>\n",
       "      <td>San Francisco</td>\n",
       "      <td>94107</td>\n",
       "      <td>CA</td>\n",
       "      <td>USA</td>\n",
       "      <td>37.7647</td>\n",
       "      <td>-122.395</td>\n",
       "      <td></td>\n",
       "      <td></td>\n",
       "    </tr>\n",
       "    <tr>\n",
       "      <th>3</th>\n",
       "      <td>4</td>\n",
       "      <td>c:5</td>\n",
       "      <td>5</td>\n",
       "      <td>Headquarters</td>\n",
       "      <td>SF Bay</td>\n",
       "      <td>1601 Willow Road</td>\n",
       "      <td></td>\n",
       "      <td>Menlo Park</td>\n",
       "      <td>94025</td>\n",
       "      <td>CA</td>\n",
       "      <td>USA</td>\n",
       "      <td>37.416</td>\n",
       "      <td>-122.152</td>\n",
       "      <td></td>\n",
       "      <td></td>\n",
       "    </tr>\n",
       "    <tr>\n",
       "      <th>4</th>\n",
       "      <td>5</td>\n",
       "      <td>c:7</td>\n",
       "      <td>7</td>\n",
       "      <td></td>\n",
       "      <td>SF Bay</td>\n",
       "      <td>Suite 200</td>\n",
       "      <td>654 High Street</td>\n",
       "      <td>Palo Alto</td>\n",
       "      <td>94301</td>\n",
       "      <td>CA</td>\n",
       "      <td>ISR</td>\n",
       "      <td></td>\n",
       "      <td></td>\n",
       "      <td></td>\n",
       "      <td></td>\n",
       "    </tr>\n",
       "  </tbody>\n",
       "</table>\n",
       "</div>"
      ],
      "text/plain": [
       "   id object_id  office_id   description   region            address1  \\\n",
       "0   1       c:1          1                Seattle    710 - 2nd Avenue   \n",
       "1   2       c:3          3  Headquarters   SF Bay     4900 Hopyard Rd   \n",
       "2   3       c:4          4                 SF Bay  135 Mississippi St   \n",
       "3   4       c:5          5  Headquarters   SF Bay    1601 Willow Road   \n",
       "4   5       c:7          7                 SF Bay           Suite 200   \n",
       "\n",
       "          address2           city zip_code state_code country_code latitude  \\\n",
       "0       Suite 1100        Seattle    98104         WA          USA  47.6031   \n",
       "1        Suite 310     Pleasanton    94588         CA          USA  37.6929   \n",
       "2                   San Francisco    94107         CA          USA  37.7647   \n",
       "3                      Menlo Park    94025         CA          USA   37.416   \n",
       "4  654 High Street      Palo Alto    94301         CA          ISR            \n",
       "\n",
       "  longitude created_at updated_at  \n",
       "0  -122.333                        \n",
       "1  -121.905                        \n",
       "2  -122.395                        \n",
       "3  -122.152                        \n",
       "4                                  "
      ]
     },
     "execution_count": 40,
     "metadata": {},
     "output_type": "execute_result"
    }
   ],
   "source": [
    "cb_offices.head()"
   ]
  },
  {
   "cell_type": "code",
   "execution_count": null,
   "metadata": {
    "collapsed": false
   },
   "outputs": [],
   "source": [
    "for i in range(0, len(cb_offices)):\n",
    "    # Get the office's attributes.\n",
    "    try:\n",
    "        object_id = cb_offices['object_id'][i]\n",
    "        office_id = int(cb_offices['office_id'][i])\n",
    "        description = cb_offices['description'][i]\n",
    "        region = cb_offices['region'][i]\n",
    "        zip_code = cb_offices['zip_code'][i]\n",
    "        city = cb_offices['city'][i]\n",
    "        state = cb_offices['state_code'][i]\n",
    "        country = cb_offices['country_code'][i]\n",
    "    \n",
    "        office = Node('Office', \n",
    "                      object_id = object_id,\n",
    "                      office_id = office_id,\n",
    "                      description = description,\n",
    "                      region = region,\n",
    "                      zip_code = zip_code,\n",
    "                      city = city,\n",
    "                      state = state,\n",
    "                      country = country)\n",
    "    \n",
    "        objects.create(office)\n",
    "    except:\n",
    "        continue"
   ]
  },
  {
   "cell_type": "markdown",
   "metadata": {},
   "source": [
    "## Draw the graph, including offices."
   ]
  },
  {
   "cell_type": "code",
   "execution_count": null,
   "metadata": {
    "collapsed": false
   },
   "outputs": [],
   "source": [
    "options = {'Company': 'name', 'Person': 'name', 'Fund': 'name', 'Office': 'description'}\n",
    "draw(objects, options, physics = True)"
   ]
  },
  {
   "cell_type": "markdown",
   "metadata": {},
   "source": [
    "## Build edges between companies and offices."
   ]
  },
  {
   "cell_type": "code",
   "execution_count": 39,
   "metadata": {
    "collapsed": false
   },
   "outputs": [
    {
     "data": {
      "text/html": [
       "<div>\n",
       "<table border=\"1\" class=\"dataframe\">\n",
       "  <thead>\n",
       "    <tr style=\"text-align: right;\">\n",
       "      <th></th>\n",
       "      <th>id</th>\n",
       "      <th>object_id</th>\n",
       "      <th>office_id</th>\n",
       "      <th>description</th>\n",
       "      <th>region</th>\n",
       "      <th>address1</th>\n",
       "      <th>address2</th>\n",
       "      <th>city</th>\n",
       "      <th>zip_code</th>\n",
       "      <th>state_code</th>\n",
       "      <th>country_code</th>\n",
       "      <th>latitude</th>\n",
       "      <th>longitude</th>\n",
       "      <th>created_at</th>\n",
       "      <th>updated_at</th>\n",
       "    </tr>\n",
       "  </thead>\n",
       "  <tbody>\n",
       "    <tr>\n",
       "      <th>0</th>\n",
       "      <td>1</td>\n",
       "      <td>c:1</td>\n",
       "      <td>1</td>\n",
       "      <td></td>\n",
       "      <td>Seattle</td>\n",
       "      <td>710 - 2nd Avenue</td>\n",
       "      <td>Suite 1100</td>\n",
       "      <td>Seattle</td>\n",
       "      <td>98104</td>\n",
       "      <td>WA</td>\n",
       "      <td>USA</td>\n",
       "      <td>47.6031</td>\n",
       "      <td>-122.333</td>\n",
       "      <td></td>\n",
       "      <td></td>\n",
       "    </tr>\n",
       "    <tr>\n",
       "      <th>1</th>\n",
       "      <td>2</td>\n",
       "      <td>c:3</td>\n",
       "      <td>3</td>\n",
       "      <td>Headquarters</td>\n",
       "      <td>SF Bay</td>\n",
       "      <td>4900 Hopyard Rd</td>\n",
       "      <td>Suite 310</td>\n",
       "      <td>Pleasanton</td>\n",
       "      <td>94588</td>\n",
       "      <td>CA</td>\n",
       "      <td>USA</td>\n",
       "      <td>37.6929</td>\n",
       "      <td>-121.905</td>\n",
       "      <td></td>\n",
       "      <td></td>\n",
       "    </tr>\n",
       "    <tr>\n",
       "      <th>2</th>\n",
       "      <td>3</td>\n",
       "      <td>c:4</td>\n",
       "      <td>4</td>\n",
       "      <td></td>\n",
       "      <td>SF Bay</td>\n",
       "      <td>135 Mississippi St</td>\n",
       "      <td></td>\n",
       "      <td>San Francisco</td>\n",
       "      <td>94107</td>\n",
       "      <td>CA</td>\n",
       "      <td>USA</td>\n",
       "      <td>37.7647</td>\n",
       "      <td>-122.395</td>\n",
       "      <td></td>\n",
       "      <td></td>\n",
       "    </tr>\n",
       "    <tr>\n",
       "      <th>3</th>\n",
       "      <td>4</td>\n",
       "      <td>c:5</td>\n",
       "      <td>5</td>\n",
       "      <td>Headquarters</td>\n",
       "      <td>SF Bay</td>\n",
       "      <td>1601 Willow Road</td>\n",
       "      <td></td>\n",
       "      <td>Menlo Park</td>\n",
       "      <td>94025</td>\n",
       "      <td>CA</td>\n",
       "      <td>USA</td>\n",
       "      <td>37.416</td>\n",
       "      <td>-122.152</td>\n",
       "      <td></td>\n",
       "      <td></td>\n",
       "    </tr>\n",
       "    <tr>\n",
       "      <th>4</th>\n",
       "      <td>5</td>\n",
       "      <td>c:7</td>\n",
       "      <td>7</td>\n",
       "      <td></td>\n",
       "      <td>SF Bay</td>\n",
       "      <td>Suite 200</td>\n",
       "      <td>654 High Street</td>\n",
       "      <td>Palo Alto</td>\n",
       "      <td>94301</td>\n",
       "      <td>CA</td>\n",
       "      <td>ISR</td>\n",
       "      <td></td>\n",
       "      <td></td>\n",
       "      <td></td>\n",
       "      <td></td>\n",
       "    </tr>\n",
       "  </tbody>\n",
       "</table>\n",
       "</div>"
      ],
      "text/plain": [
       "   id object_id  office_id   description   region            address1  \\\n",
       "0   1       c:1          1                Seattle    710 - 2nd Avenue   \n",
       "1   2       c:3          3  Headquarters   SF Bay     4900 Hopyard Rd   \n",
       "2   3       c:4          4                 SF Bay  135 Mississippi St   \n",
       "3   4       c:5          5  Headquarters   SF Bay    1601 Willow Road   \n",
       "4   5       c:7          7                 SF Bay           Suite 200   \n",
       "\n",
       "          address2           city zip_code state_code country_code latitude  \\\n",
       "0       Suite 1100        Seattle    98104         WA          USA  47.6031   \n",
       "1        Suite 310     Pleasanton    94588         CA          USA  37.6929   \n",
       "2                   San Francisco    94107         CA          USA  37.7647   \n",
       "3                      Menlo Park    94025         CA          USA   37.416   \n",
       "4  654 High Street      Palo Alto    94301         CA          ISR            \n",
       "\n",
       "  longitude created_at updated_at  \n",
       "0  -122.333                        \n",
       "1  -121.905                        \n",
       "2  -122.395                        \n",
       "3  -122.152                        \n",
       "4                                  "
      ]
     },
     "execution_count": 39,
     "metadata": {},
     "output_type": "execute_result"
    }
   ],
   "source": [
    "cb_offices.head()"
   ]
  },
  {
   "cell_type": "code",
   "execution_count": null,
   "metadata": {
    "collapsed": false
   },
   "outputs": [],
   "source": [
    "for i in range(0, len(cb_offices)):\n",
    "    # Parse each row of cb_offices frame.\n",
    "    try:\n",
    "        office_id = int(cb_offices['office_id'][i])\n",
    "        person = objects.find_one('Person', \n",
    "                                  property_key = 'office_id', \n",
    "                                  property_value = office_id)\n",
    "        \n",
    "        company_id = cb_offices['object_id'][i]\n",
    "        company = objects.find_one('Company', \n",
    "                                   property_key = 'id', \n",
    "                                   property_value = company_id)\n",
    "        \n",
    "        r = Relationship(company, \"HAS_OFFICE\", office)\n",
    "        \n",
    "        objects.create(r)\n",
    "    except:\n",
    "        continue"
   ]
  },
  {
   "cell_type": "markdown",
   "metadata": {},
   "source": [
    "## Draw the company/office edges."
   ]
  },
  {
   "cell_type": "code",
   "execution_count": null,
   "metadata": {
    "collapsed": false
   },
   "outputs": [],
   "source": [
    "options = {'Company': 'name', 'Person': 'name', 'Fund': 'name', 'Office': 'description'}\n",
    "draw(objects, options, physics = True)"
   ]
  },
  {
   "cell_type": "code",
   "execution_count": null,
   "metadata": {
    "collapsed": true
   },
   "outputs": [],
   "source": []
  },
  {
   "cell_type": "code",
   "execution_count": null,
   "metadata": {
    "collapsed": true
   },
   "outputs": [],
   "source": []
  },
  {
   "cell_type": "code",
   "execution_count": null,
   "metadata": {
    "collapsed": true
   },
   "outputs": [],
   "source": []
  },
  {
   "cell_type": "code",
   "execution_count": null,
   "metadata": {
    "collapsed": true
   },
   "outputs": [],
   "source": []
  },
  {
   "cell_type": "code",
   "execution_count": null,
   "metadata": {
    "collapsed": true
   },
   "outputs": [],
   "source": []
  },
  {
   "cell_type": "code",
   "execution_count": null,
   "metadata": {
    "collapsed": true
   },
   "outputs": [],
   "source": []
  },
  {
   "cell_type": "code",
   "execution_count": null,
   "metadata": {
    "collapsed": true
   },
   "outputs": [],
   "source": []
  }
 ],
 "metadata": {
  "kernelspec": {
   "display_name": "Python 3",
   "language": "python",
   "name": "python3"
  },
  "language_info": {
   "codemirror_mode": {
    "name": "ipython",
    "version": 3
   },
   "file_extension": ".py",
   "mimetype": "text/x-python",
   "name": "python",
   "nbconvert_exporter": "python",
   "pygments_lexer": "ipython3",
   "version": "3.5.1"
  }
 },
 "nbformat": 4,
 "nbformat_minor": 0
}
